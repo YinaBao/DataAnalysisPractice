{
 "cells": [
  {
   "cell_type": "code",
   "execution_count": 3,
   "metadata": {},
   "outputs": [
    {
     "name": "stdout",
     "output_type": "stream",
     "text": [
      "   a  b  c  d     e\n",
      "1  4  4  4  3  dabc\n",
      "2  1  0  4  1  badc\n",
      "3  1  2  3  4  abcd\n",
      "4  2  1  1  2  bcad\n"
     ]
    }
   ],
   "source": [
    "import pandas as pd\n",
    "import numpy as np\n",
    "\n",
    "#data = pd.DataFrame(np.random.randn(4, 4), columns=list('abcd'), index=['1', '2', '3', '4'])\n",
    "\n",
    "data = pd.DataFrame(np.random.randint(5, size=(4, 4)), columns=list('abcd'), index=['1', '2', '3', '4'])\n",
    "#data\n",
    "\n",
    "l = list()\n",
    "for index,row in data.iterrows(): \n",
    "    n = row.sort_values()\n",
    "    m = list(n.index[:])\n",
    "    p = ''.join(m)\n",
    "    l.append(p)\n",
    "\n",
    "data['e'] = l\n",
    "print(data)\n",
    "\n"
   ]
  },
  {
   "cell_type": "code",
   "execution_count": null,
   "metadata": {},
   "outputs": [],
   "source": []
  }
 ],
 "metadata": {
  "kernelspec": {
   "display_name": "Python 3",
   "language": "python",
   "name": "python3"
  },
  "language_info": {
   "codemirror_mode": {
    "name": "ipython",
    "version": 3
   },
   "file_extension": ".py",
   "mimetype": "text/x-python",
   "name": "python",
   "nbconvert_exporter": "python",
   "pygments_lexer": "ipython3",
   "version": "3.6.5"
  }
 },
 "nbformat": 4,
 "nbformat_minor": 2
}
